{
 "cells": [
  {
   "cell_type": "code",
   "execution_count": 1,
   "id": "78d9a22c-e3e9-49cb-84a4-ae4f1f578401",
   "metadata": {},
   "outputs": [],
   "source": [
    "import numpy as np"
   ]
  },
  {
   "cell_type": "code",
   "execution_count": 2,
   "id": "acff4452-2c13-43da-a23a-972b94d533ce",
   "metadata": {},
   "outputs": [
    {
     "name": "stdout",
     "output_type": "stream",
     "text": [
      "Hello, Github!\n"
     ]
    }
   ],
   "source": [
    "print('Hello, Github!')"
   ]
  },
  {
   "cell_type": "code",
   "execution_count": null,
   "id": "a385ea0e-60cb-4d0f-9edf-08b1454734cf",
   "metadata": {},
   "outputs": [],
   "source": []
  }
 ],
 "metadata": {
  "kernelspec": {
   "display_name": "Python 3 (ipykernel)",
   "language": "python",
   "name": "python3"
  },
  "language_info": {
   "codemirror_mode": {
    "name": "ipython",
    "version": 3
   },
   "file_extension": ".py",
   "mimetype": "text/x-python",
   "name": "python",
   "nbconvert_exporter": "python",
   "pygments_lexer": "ipython3",
   "version": "3.9.13"
  }
 },
 "nbformat": 4,
 "nbformat_minor": 5
}
